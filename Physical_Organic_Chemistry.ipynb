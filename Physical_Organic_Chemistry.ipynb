{
  "nbformat": 4,
  "nbformat_minor": 0,
  "metadata": {
    "colab": {
      "provenance": []
    },
    "kernelspec": {
      "name": "python3",
      "display_name": "Python 3"
    },
    "language_info": {
      "name": "python"
    }
  },
  "cells": [
    {
      "cell_type": "code",
      "execution_count": null,
      "metadata": {
        "id": "qDSCzdsaIiru"
      },
      "outputs": [],
      "source": [
        "!pip install numpy==1.26.4 rdkit-pypi pubchempy"
      ]
    },
    {
      "cell_type": "code",
      "source": [
        "import pubchempy as pcp\n",
        "from rdkit import Chem\n",
        "from rdkit.Chem import Draw"
      ],
      "metadata": {
        "id": "FsWMhJd5ItEQ"
      },
      "execution_count": null,
      "outputs": []
    },
    {
      "cell_type": "code",
      "source": [
        "compound = pcp.get_compounds(\"(s)-ibuprofen\", \"name\")[0]\n",
        "smiles = compound.isomeric_smiles\n",
        "print(smiles)"
      ],
      "metadata": {
        "id": "IRUXBM_dI8OO"
      },
      "execution_count": null,
      "outputs": []
    },
    {
      "cell_type": "code",
      "source": [
        "# Convert to RDKit molecule and draw\n",
        "mol = Chem.MolFromSmiles(smiles)\n",
        "Draw.MolToImage(mol)"
      ],
      "metadata": {
        "id": "rIsD1JR-JSio"
      },
      "execution_count": null,
      "outputs": []
    },
    {
      "cell_type": "code",
      "source": [
        "from rdkit.Chem import Descriptors\n",
        "\n",
        "print(\"Molecular Weight:\", Descriptors.MolWt(mol))\n",
        "print(\"logP (Octanol/Water):\", Descriptors.MolLogP(mol))\n",
        "print(\"Number of H-bond donors:\", Descriptors.NumHDonors(mol))\n",
        "print(\"Number of H-bond acceptors:\", Descriptors.NumHAcceptors(mol))\n",
        "print(\"TPSA (Polar Surface Area):\", Descriptors.TPSA(mol))\n",
        "print(\"Rotatable Bonds:\", Descriptors.NumRotatableBonds(mol))\n",
        "print(\"Num Aromatic Rings:\", Descriptors.NumAromaticRings(mol))\n"
      ],
      "metadata": {
        "id": "Awj5GqSjJbFw"
      },
      "execution_count": null,
      "outputs": []
    },
    {
      "cell_type": "code",
      "source": [
        "from rdkit import DataStructs\n",
        "from rdkit.Chem import AllChem\n",
        "\n",
        "# Define some example molecules\n",
        "names = [\"ibuprofen\", \"aspirin\", \"paracetamol\", \"caffeine\", \"naproxen\", \"cyclosporine\"]\n",
        "mols = [Chem.MolFromSmiles(pcp.get_compounds(name, \"name\")[0].isomeric_smiles) for name in names]\n",
        "\n",
        "# Generate Morgan fingerprints (ECFP4)\n",
        "fps = [AllChem.GetMorganFingerprintAsBitVect(m, radius=2, nBits=2048) for m in mols]\n",
        "\n",
        "# Similarity to ibuprofen (first entry)\n",
        "similarities = [DataStructs.TanimotoSimilarity(fps[0], fp) for fp in fps]\n",
        "\n",
        "# Show results\n",
        "for name, sim in zip(names, similarities):\n",
        "    print(f\"{name.capitalize():<12}: similarity = {sim:.3f}\")\n"
      ],
      "metadata": {
        "id": "HBzR-ZJjJrZN"
      },
      "execution_count": null,
      "outputs": []
    },
    {
      "cell_type": "code",
      "source": [
        "from rdkit.Chem import Draw\n",
        "\n",
        "# Add similarity scores as legends\n",
        "legends = [f\"{name.capitalize()}\\nSimilarity: {sim:.2f}\" for name, sim in zip(names, similarities)]\n",
        "\n",
        "# Display molecules in grid\n",
        "Draw.MolsToGridImage(mols, molsPerRow=3, subImgSize=(250,250), legends=legends)\n"
      ],
      "metadata": {
        "id": "WF5BtigoKjg6"
      },
      "execution_count": null,
      "outputs": []
    },
    {
      "cell_type": "code",
      "source": [
        "def passes_lipinski(mol):\n",
        "    return (Descriptors.MolLogP(mol) < 5 and\n",
        "            Descriptors.MolWt(mol) < 500 and\n",
        "            Descriptors.NumHDonors(mol) <= 5 and\n",
        "            Descriptors.NumHAcceptors(mol) <= 10)\n",
        "\n",
        "for name, m in zip(names, mols):\n",
        "    print(f\"{name:<12} passes Lipinski? {passes_lipinski(m)}\")\n"
      ],
      "metadata": {
        "id": "Ij3k3UHhK51S"
      },
      "execution_count": null,
      "outputs": []
    },
    {
      "cell_type": "markdown",
      "source": [
        "Cyclosporine is an immunosupressant medication and does not follow the rule of 5"
      ],
      "metadata": {
        "id": "qSfrPrtHLjv2"
      }
    }
  ]
}