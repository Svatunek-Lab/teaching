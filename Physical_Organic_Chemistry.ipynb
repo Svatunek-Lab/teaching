{
 "cells": [
  {
   "cell_type": "code",
   "execution_count": null,
   "metadata": {
    "id": "qDSCzdsaIiru"
   },
   "outputs": [],
   "source": [
    "!pip install numpy==1.26.4 rdkit-pypi"
   ]
  },
  {
   "cell_type": "code",
   "execution_count": null,
   "metadata": {
    "id": "FsWMhJd5ItEQ"
   },
   "outputs": [],
   "source": [
    "from rdkit import Chem\n",
    "from rdkit.Chem import Draw"
   ]
  },
  {
   "cell_type": "code",
   "execution_count": null,
   "metadata": {
    "id": "IRUXBM_dI8OO"
   },
   "outputs": [],
   "source": [
    "def cir_query(name, representation=\"smiles\"):\n",
    "    import requests\n",
    "    url = f\"https://cactus.nci.nih.gov/chemical/structure/{name}/{representation}\"\n",
    "    r = requests.get(url)\n",
    "    return r.text if r.ok else None\n",
    "\n",
    "smiles = cir_query(\"ibuprofen\")\n",
    "print(smiles)\n"
   ]
  },
  {
   "cell_type": "code",
   "execution_count": null,
   "metadata": {
    "id": "rIsD1JR-JSio"
   },
   "outputs": [],
   "source": [
    "# Convert to RDKit molecule and draw\n",
    "mol = Chem.MolFromSmiles(smiles)\n",
    "Draw.MolToImage(mol)"
   ]
  },
  {
   "cell_type": "code",
   "execution_count": null,
   "metadata": {
    "id": "Awj5GqSjJbFw"
   },
   "outputs": [],
   "source": [
    "from rdkit.Chem import Descriptors\n",
    "\n",
    "print(\"Molecular Weight:\", Descriptors.MolWt(mol))\n",
    "print(\"logP (Octanol/Water):\", Descriptors.MolLogP(mol))\n",
    "print(\"Number of H-bond donors:\", Descriptors.NumHDonors(mol))\n",
    "print(\"Number of H-bond acceptors:\", Descriptors.NumHAcceptors(mol))\n",
    "print(\"TPSA (Polar Surface Area):\", Descriptors.TPSA(mol))\n",
    "print(\"Rotatable Bonds:\", Descriptors.NumRotatableBonds(mol))\n",
    "print(\"Num Aromatic Rings:\", Descriptors.NumAromaticRings(mol))\n"
   ]
  },
  {
   "cell_type": "code",
   "execution_count": null,
   "metadata": {
    "id": "HBzR-ZJjJrZN"
   },
   "outputs": [],
   "source": [
    "from rdkit import Chem, DataStructs\n",
    "from rdkit.Chem import AllChem\n",
    "\n",
    "import requests\n",
    "\n",
    "# Helper function to get SMILES from CIR\n",
    "def cir_query(name, representation=\"smiles\"):\n",
    "    url = f\"https://cactus.nci.nih.gov/chemical/structure/{name}/{representation}\"\n",
    "    r = requests.get(url)\n",
    "    return r.text if r.ok else None\n",
    "\n",
    "# Define names\n",
    "names = [\"ibuprofen\", \"aspirin\", \"paracetamol\", \"caffeine\", \"naproxen\", \"cyclosporine\"]\n",
    "\n",
    "# Get molecules from names using CIR\n",
    "smiles_list = [cir_query(name) for name in names]\n",
    "mols = [Chem.MolFromSmiles(sm) if sm else None for sm in smiles_list]\n",
    "\n",
    "# Filter out any None (failed lookups)\n",
    "valid = [(name, mol) for name, mol in zip(names, mols) if mol is not None]\n",
    "names, mols = zip(*valid)\n",
    "\n",
    "# Generate Morgan fingerprints (ECFP4)\n",
    "fps = [AllChem.GetMorganFingerprintAsBitVect(m, radius=2, nBits=2048) for m in mols]\n",
    "\n",
    "# Similarity to ibuprofen (first entry)\n",
    "similarities = [DataStructs.TanimotoSimilarity(fps[0], fp) for fp in fps]\n",
    "\n",
    "# Show results\n",
    "for name, sim in zip(names, similarities):\n",
    "    print(f\"{name.capitalize():<15}: similarity = {sim:.3f}\")\n",
    "\n"
   ]
  },
  {
   "cell_type": "code",
   "execution_count": null,
   "metadata": {
    "id": "WF5BtigoKjg6"
   },
   "outputs": [],
   "source": [
    "from rdkit.Chem import Draw\n",
    "\n",
    "# Add similarity scores as legends\n",
    "legends = [f\"{name.capitalize()}\\nSimilarity: {sim:.2f}\" for name, sim in zip(names, similarities)]\n",
    "\n",
    "# Display molecules in grid\n",
    "Draw.MolsToGridImage(mols, molsPerRow=3, subImgSize=(250,250), legends=legends)\n"
   ]
  },
  {
   "cell_type": "code",
   "execution_count": null,
   "metadata": {
    "id": "Ij3k3UHhK51S"
   },
   "outputs": [],
   "source": [
    "def passes_lipinski(mol):\n",
    "    return (Descriptors.MolLogP(mol) < 5 and\n",
    "            Descriptors.MolWt(mol) < 500 and\n",
    "            Descriptors.NumHDonors(mol) <= 5 and\n",
    "            Descriptors.NumHAcceptors(mol) <= 10)\n",
    "\n",
    "for name, m in zip(names, mols):\n",
    "    print(f\"{name:<12} passes Lipinski? {passes_lipinski(m)}\")\n"
   ]
  },
  {
   "cell_type": "markdown",
   "metadata": {
    "id": "qSfrPrtHLjv2"
   },
   "source": [
    "Cyclosporine is an immunosupressant medication and does not follow the rule of 5"
   ]
  },
  {
   "cell_type": "code",
   "execution_count": null,
   "metadata": {},
   "outputs": [],
   "source": [
    "!pip install py3Dmol"
   ]
  },
  {
   "cell_type": "code",
   "execution_count": null,
   "metadata": {},
   "outputs": [],
   "source": [
    "# 1. Load SMILES and add Hs\n",
    "smiles = \"C[C@@H](C1=CC=C(C=C1)CC(C)C)C(=O)[O-]\"\n",
    "mol = Chem.MolFromSmiles(smiles)\n",
    "mol = Chem.AddHs(mol)\n",
    "\n",
    "# 2. Generate 3D coordinates\n",
    "params = AllChem.ETKDGv3()\n",
    "success = AllChem.EmbedMolecule(mol, params)\n",
    "if success == 0:\n",
    "    AllChem.UFFOptimizeMolecule(mol)\n",
    "else:\n",
    "    print(\"Embedding failed.\")\n"
   ]
  },
  {
   "cell_type": "code",
   "execution_count": null,
   "metadata": {},
   "outputs": [],
   "source": [
    "conf = mol.GetConformer()\n",
    "xyz = f\"{mol.GetNumAtoms()}\\n\\n\"\n",
    "for atom in mol.GetAtoms():\n",
    "    pos = conf.GetAtomPosition(atom.GetIdx())\n",
    "    xyz += f\"{atom.GetSymbol()} {pos.x:.4f} {pos.y:.4f} {pos.z:.4f}\\n\"\n",
    "print(xyz)\n"
   ]
  },
  {
   "cell_type": "code",
   "execution_count": null,
   "metadata": {},
   "outputs": [],
   "source": [
    "import py3Dmol\n",
    "\n",
    "viewer = py3Dmol.view(width=400, height=300)\n",
    "viewer.addModel(xyz, \"xyz\")\n",
    "viewer.setStyle({\"stick\": {}})\n",
    "viewer.setBackgroundColor(\"white\")\n",
    "viewer.zoomTo()\n",
    "viewer.show()\n"
   ]
  },
  {
   "cell_type": "code",
   "execution_count": null,
   "metadata": {},
   "outputs": [],
   "source": []
  }
 ],
 "metadata": {
  "colab": {
   "provenance": []
  },
  "kernelspec": {
   "display_name": "Python 3 (ipykernel)",
   "language": "python",
   "name": "python3"
  },
  "language_info": {
   "codemirror_mode": {
    "name": "ipython",
    "version": 3
   },
   "file_extension": ".py",
   "mimetype": "text/x-python",
   "name": "python",
   "nbconvert_exporter": "python",
   "pygments_lexer": "ipython3",
   "version": "3.10.16"
  }
 },
 "nbformat": 4,
 "nbformat_minor": 4
}
