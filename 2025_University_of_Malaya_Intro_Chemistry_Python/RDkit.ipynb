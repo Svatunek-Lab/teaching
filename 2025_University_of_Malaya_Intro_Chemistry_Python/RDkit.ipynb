{
  "cells": [
    {
      "cell_type": "markdown",
      "metadata": {
        "id": "view-in-github",
        "colab_type": "text"
      },
      "source": [
        "<a href=\"https://colab.research.google.com/github/Svatunek-Lab/teaching/blob/main/2025_University_of_Malaya_Intro_Chemistry_Python/RDkit.ipynb\" target=\"_parent\"><img src=\"https://colab.research.google.com/assets/colab-badge.svg\" alt=\"Open In Colab\"/></a>"
      ]
    },
    {
      "cell_type": "markdown",
      "source": [
        "## Chemistry in Python\n",
        "\n",
        "In this section, we explore how chemistry can be represented and analyzed directly in Python using **RDKit**, a popular open-source cheminformatics toolkit.  \n",
        "\n",
        "We will learn how to:\n",
        "- **Represent molecules** using text-based notations such as **SMILES**, which uniquely describe chemical structures.  \n",
        "- **Visualize molecules** in both **2D** (for structural formulas) and **3D** (for spatial geometry and conformers).  \n",
        "- **Calculate molecular descriptors**, such as molecular weight, logP, or polar surface area, which quantify chemical and physical properties.  \n",
        "- **Convert molecules into data**, preparing them for further analysis or **machine learning** workflows.  \n",
        "\n",
        "By the end of this section, you will understand how to represent and analyze molecules directly in Python.\n"
      ],
      "metadata": {
        "id": "2Hrtg50h2xKO"
      }
    },
    {
      "cell_type": "markdown",
      "source": [
        "## Setup and Preparation\n",
        "\n",
        "Before we begin, we need to install a few essential packages:  \n",
        "**RDKit** for chemical structure handling and basic computations,  \n",
        "and **py3Dmol** for interactive 3D visualization of molecules.  \n",
        "\n",
        "Once these are installed, we are ready to start exploring and visualizing real molecular structures in Python.\n",
        "\n"
      ],
      "metadata": {
        "id": "ApaDM8kH3zWK"
      }
    },
    {
      "cell_type": "code",
      "execution_count": 2,
      "metadata": {
        "id": "fDV1Luu21SXl",
        "colab": {
          "base_uri": "https://localhost:8080/"
        },
        "outputId": "23dc1080-1600-4f30-a29c-67175698c3c8"
      },
      "outputs": [
        {
          "output_type": "stream",
          "name": "stdout",
          "text": [
            "\u001b[2K   \u001b[90m━━━━━━━━━━━━━━━━━━━━━━━━━━━━━━━━━━━━━━━━\u001b[0m \u001b[32m36.2/36.2 MB\u001b[0m \u001b[31m39.2 MB/s\u001b[0m eta \u001b[36m0:00:00\u001b[0m\n",
            "\u001b[?25h"
          ]
        }
      ],
      "source": [
        "!pip install -q rdkit py3Dmol"
      ]
    },
    {
      "cell_type": "markdown",
      "source": [
        "## Molecules as Python Objects\n",
        "\n",
        "In RDKit, molecules are represented by **`Mol` objects**.  \n",
        "These objects store all information about the molecule — atoms, bonds, and connectivity — in a form that Python can access and manipulate.\n",
        "\n",
        "A `Mol` object can be created from a **SMILES** string, which encodes the structure as plain text.  \n",
        "Once created, we can inspect its properties or visualize it directly.\n",
        "\n",
        "In the next example, we will:\n",
        "1. Create a molecule from its SMILES representation.  \n",
        "2. Check how many atoms and bonds it contains.  \n",
        "3. Display its 2D structure.\n"
      ],
      "metadata": {
        "id": "vgfCubi43mrR"
      }
    },
    {
      "cell_type": "code",
      "source": [
        "from rdkit import Chem\n",
        "\n",
        "# create mol object from SMILES\n",
        "mol = Chem.MolFromSmiles(\"O=C(OC1CC=CCC1)C\")\n"
      ],
      "metadata": {
        "id": "0ZvVCATABhs6"
      },
      "execution_count": 21,
      "outputs": []
    },
    {
      "cell_type": "code",
      "source": [
        "print(type(mol))"
      ],
      "metadata": {
        "id": "m5ux6rELCC7a",
        "outputId": "00f892a6-2cab-4f3d-97d4-98db88ca0c9b",
        "colab": {
          "base_uri": "https://localhost:8080/"
        }
      },
      "execution_count": 22,
      "outputs": [
        {
          "output_type": "stream",
          "name": "stdout",
          "text": [
            "<class 'rdkit.Chem.rdchem.Mol'>\n"
          ]
        }
      ]
    },
    {
      "cell_type": "code",
      "source": [
        "print(mol.GetNumAtoms(), \"atoms\")\n",
        "print(mol.GetNumBonds(), \"bonds\")"
      ],
      "metadata": {
        "id": "KCeSM9i-CWRS",
        "outputId": "8cbe5e60-852c-42ab-eb24-eb447640a2e1",
        "colab": {
          "base_uri": "https://localhost:8080/"
        }
      },
      "execution_count": 23,
      "outputs": [
        {
          "output_type": "stream",
          "name": "stdout",
          "text": [
            "10 atoms\n",
            "10 bonds\n"
          ]
        }
      ]
    },
    {
      "cell_type": "code",
      "source": [
        "from rdkit.Chem import Draw\n",
        "Draw.MolToImage(mol)"
      ],
      "metadata": {
        "id": "VO4F-PMCChUI",
        "outputId": "a49f511b-d864-48ea-bf71-09f447e94283",
        "colab": {
          "base_uri": "https://localhost:8080/",
          "height": 317
        }
      },
      "execution_count": 20,
      "outputs": [
        {
          "output_type": "execute_result",
          "data": {
            "text/plain": [
              "<PIL.PngImagePlugin.PngImageFile image mode=RGB size=300x300>"
            ],
            "image/png": "[encoded data removed]",
            "image/jpeg": "[encoded data removed]"
          },
          "metadata": {},
          "execution_count": 20
        }
      ]
    },
    {
      "cell_type": "markdown",
      "source": [
        "## Substructure search (SMARTS) and highlighting\n",
        "\n",
        "A powerful feature of RDKit is **substructure search**: finding a pattern (functional group, ring, motif) inside a molecule.\n",
        "\n",
        "- Patterns are written as **SMARTS** (like regex for molecules).\n",
        "- Create a query with `Chem.MolFromSmarts(...)`.\n",
        "- Find all occurrences with `mol.GetSubstructMatches(query)`.\n",
        "- Highlight the matched atoms/bonds when drawing.\n",
        "\n",
        "Below, we search for a **carbonyl group** and highlight every match.\n"
      ],
      "metadata": {
        "id": "xGjjvgw1C4t1"
      }
    },
    {
      "cell_type": "code",
      "source": [
        "from rdkit import Chem\n",
        "from rdkit.Chem import Draw\n",
        "\n",
        "# Example molecule (ethyl benzoate)\n",
        "mol = Chem.MolFromSmiles(\"CCOC(=O)c1ccccc1\")\n",
        "\n",
        "# SMARTS for a generic carbonyl C=O (sp2 carbonyl carbon)\n",
        "query = Chem.MolFromSmarts(\"[CX3]=[OX1]\")\n",
        "\n",
        "matches = mol.GetSubstructMatches(query)  # tuple of atom-index tuples\n",
        "print(f\"Matches found: {len(matches)}\")\n",
        "print(matches)\n",
        "\n",
        "# Collect atom and bond indices to highlight\n",
        "highlight_atoms = set(a for m in matches for a in m)\n",
        "highlight_bonds = []\n",
        "for m in matches:\n",
        "    # map query bonds to target bonds to highlight them too\n",
        "    for qb in query.GetBonds():\n",
        "        a1 = m[qb.GetBeginAtomIdx()]\n",
        "        a2 = m[qb.GetEndAtomIdx()]\n",
        "        b = mol.GetBondBetweenAtoms(a1, a2)\n",
        "        if b is not None:\n",
        "            highlight_bonds.append(b.GetIdx())\n",
        "\n",
        "img = Draw.MolToImage(\n",
        "    mol,\n",
        "    size=(350, 300),\n",
        "    kekulize=True,\n",
        "    highlightAtoms=list(highlight_atoms),\n",
        "    highlightBonds=highlight_bonds,\n",
        ")\n",
        "img\n"
      ],
      "metadata": {
        "id": "a--hg2vaDMCI",
        "outputId": "8a9b7f04-e911-4e1b-bd42-bf159d44f0e9",
        "colab": {
          "base_uri": "https://localhost:8080/",
          "height": 352
        }
      },
      "execution_count": 24,
      "outputs": [
        {
          "output_type": "stream",
          "name": "stdout",
          "text": [
            "Matches found: 1\n",
            "((3, 4),)\n"
          ]
        },
        {
          "output_type": "execute_result",
          "data": {
            "text/plain": [
              "<PIL.PngImagePlugin.PngImageFile image mode=RGB size=350x300>"
            ],
            "image/png": "[encoded data removed]",
            "image/jpeg": "[encoded data removed]"
          },
          "metadata": {},
          "execution_count": 24
        }
      ]
    },
    {
      "cell_type": "markdown",
      "source": [
        "### Searching a list of molecules\n",
        "\n",
        "We can filter a small “library” to those that **contain** a motif and show them side-by-side.\n"
      ],
      "metadata": {
        "id": "T7Z9eXZKDc2D"
      }
    },
    {
      "cell_type": "code",
      "source": [
        "from rdkit.Chem import Draw\n",
        "\n",
        "smis = [\n",
        "    \"CCOC(=O)c1ccccc1\",   # ethyl benzoate\n",
        "    \"CC(=O)OCC\",          # ethyl acetate\n",
        "    \"CCO\",                # ethanol (no carbonyl)\n",
        "    \"O=C(Nc1ccccc1)C\",    # acetanilide\n",
        "    \"c1ccccc1C=O\",        # benzaldehyde\n",
        "]\n",
        "\n",
        "mols = [Chem.MolFromSmiles(s) for s in smis]\n",
        "query = Chem.MolFromSmarts(\"[CX3]=[OX1]\")  # carbonyl\n",
        "\n",
        "hits = []\n",
        "highlight_atom_lists = []\n",
        "highlight_bond_lists = []\n",
        "\n",
        "for m in mols:\n",
        "    ms = m.GetSubstructMatches(query)\n",
        "    if not ms:\n",
        "        continue\n",
        "    hits.append(m)\n",
        "    # prepare highlights for each molecule (grid accepts list-of-lists)\n",
        "    ha = set(a for match in ms for a in match)\n",
        "    hb = []\n",
        "    for match in ms:\n",
        "        for qb in query.GetBonds():\n",
        "            a1 = match[qb.GetBeginAtomIdx()]\n",
        "            a2 = match[qb.GetEndAtomIdx()]\n",
        "            b = m.GetBondBetweenAtoms(a1, a2)\n",
        "            if b is not None:\n",
        "                hb.append(b.GetIdx())\n",
        "    highlight_atom_lists.append(list(ha))\n",
        "    highlight_bond_lists.append(hb)\n",
        "\n",
        "print(f\"Molecules containing a carbonyl: {len(hits)} / {len(mols)}\")\n",
        "\n",
        "grid = Draw.MolsToGridImage(\n",
        "    hits,\n",
        "    molsPerRow=3,\n",
        "    subImgSize=(250, 220),\n",
        "    legends=[Chem.MolToSmiles(m) for m in hits],\n",
        "    highlightAtomLists=highlight_atom_lists,\n",
        "    highlightBondLists=highlight_bond_lists,\n",
        "    useSVG=False,\n",
        ")\n",
        "grid\n"
      ],
      "metadata": {
        "id": "gsFw3DhPDVzO",
        "outputId": "aac6016a-e414-4071-8923-5a3b89c43a7d",
        "colab": {
          "base_uri": "https://localhost:8080/",
          "height": 474
        }
      },
      "execution_count": 25,
      "outputs": [
        {
          "output_type": "stream",
          "name": "stdout",
          "text": [
            "Molecules containing a carbonyl: 4 / 5\n"
          ]
        },
        {
          "output_type": "execute_result",
          "data": {
            "image/png": "[encoded data removed]",
            "text/plain": [
              "<IPython.core.display.Image object>"
            ]
          },
          "metadata": {},
          "execution_count": 25
        }
      ]
    },
    {
      "cell_type": "markdown",
      "source": [
        "## From 2D (SMILES) to 3D (conformer)\n",
        "\n",
        "Goal: start from a SMILES string, generate a **3D conformer**, perform a quick **geometry optimization**, and **view** it interactively.\n",
        "\n",
        "Steps:\n",
        "1) Create `Mol` from SMILES and **add hydrogens** (needed for sensible 3D).  \n",
        "2) **Embed** a 3D conformer using ETKDG (knowledge-based distances).  \n",
        "3) **Optimize** with a simple force field (UFF or MMFF).  \n",
        "4) Visualize with **py3Dmol**.\n",
        "\n",
        "Notes:\n",
        "- ETKDG gives good initial geometries.  \n",
        "- Use **MMFF** if parameters are available; fall back to **UFF** otherwise.  \n",
        "- You can generate **multiple conformers** to sample geometry.\n"
      ],
      "metadata": {
        "id": "62rK6Xq1D0Wh"
      }
    },
    {
      "cell_type": "code",
      "source": [
        "from rdkit import Chem\n",
        "from rdkit.Chem import AllChem\n",
        "\n",
        "# 1) Start from SMILES (ethyl benzoate here)\n",
        "smiles = \"CCOC(=O)c1ccccc1\"\n",
        "mol2d = Chem.MolFromSmiles(smiles)\n",
        "\n",
        "# 2) Add hydrogens and embed a 3D conformer\n",
        "mol3d = Chem.AddHs(mol2d)\n",
        "AllChem.EmbedMolecule(mol3d, AllChem.ETKDG())  # ETKDG embedding\n",
        "\n",
        "# 3) Optimize geometry with MMFF\n",
        "AllChem.MMFFOptimizeMolecule(mol3d)\n",
        "\n",
        "\n"
      ],
      "metadata": {
        "id": "QAIG7UEqD3hM",
        "outputId": "4020bcc7-f8c3-406a-b393-51e75c080d79",
        "colab": {
          "base_uri": "https://localhost:8080/"
        }
      },
      "execution_count": 31,
      "outputs": [
        {
          "output_type": "execute_result",
          "data": {
            "text/plain": [
              "0"
            ]
          },
          "metadata": {},
          "execution_count": 31
        }
      ]
    },
    {
      "cell_type": "code",
      "source": [
        "# 4) show 3D coordinates\n",
        "\n",
        "conf = mol3d.GetConformer()\n",
        "\n",
        "for atom in mol3d.GetAtoms():\n",
        "    pos = conf.GetAtomPosition(atom.GetIdx())\n",
        "    print(f\"{atom.GetSymbol():<2} {pos.x:12.6f} {pos.y:12.6f} {pos.z:12.6f}\")\n"
      ],
      "metadata": {
        "id": "pAId6PkjECra",
        "outputId": "ee62437e-5e6b-489c-e247-12f080a8e90b",
        "colab": {
          "base_uri": "https://localhost:8080/"
        }
      },
      "execution_count": 32,
      "outputs": [
        {
          "output_type": "stream",
          "name": "stdout",
          "text": [
            "C      3.510615     0.238128     0.451524\n",
            "C      2.549112    -0.735692     1.106383\n",
            "O      1.195847    -0.296215     0.918703\n",
            "C      0.599771    -0.697749    -0.231915\n",
            "O      1.111601    -1.383382    -1.102883\n",
            "C     -0.794643    -0.181958    -0.307095\n",
            "C     -1.361202     0.608283     0.702766\n",
            "C     -2.675519     1.066608     0.581070\n",
            "C     -3.428980     0.739608    -0.545943\n",
            "C     -2.872572    -0.045683    -1.554539\n",
            "C     -1.559431    -0.505629    -1.436619\n",
            "H      3.349805     0.281588    -0.630304\n",
            "H      4.547363    -0.055235     0.638935\n",
            "H      3.354422     1.250783     0.837628\n",
            "H      2.729895    -0.761446     2.185980\n",
            "H      2.693279    -1.755621     0.731708\n",
            "H     -0.792118     0.875406     1.589607\n",
            "H     -3.111495     1.679345     1.366468\n",
            "H     -4.451647     1.097497    -0.638421\n",
            "H     -3.459903    -0.300585    -2.433299\n",
            "H     -1.134200    -1.118050    -2.229753\n"
          ]
        }
      ]
    },
    {
      "cell_type": "code",
      "source": [
        "# 5) Visualize in 3D\n",
        "import py3Dmol\n",
        "mb = Chem.MolToMolBlock(mol3d)\n",
        "view = py3Dmol.view(width=400, height=350)\n",
        "view.addModel(mb, \"mol\")\n",
        "view.setStyle({\"stick\": {\"radius\": 0.15}, \"sphere\": {\"scale\": 0.25}})\n",
        "view.zoomTo()\n",
        "view.show()"
      ],
      "metadata": {
        "id": "oiW_hkWqD8iL",
        "outputId": "da6ed471-f7be-4eae-8f80-56c0ba28a6b6",
        "colab": {
          "base_uri": "https://localhost:8080/",
          "height": 367
        }
      },
      "execution_count": 34,
      "outputs": [
        {
          "output_type": "display_data",
          "data": {
            "application/3dmoljs_load.v0": "<div id=\"3dmolviewer_17616089369231281\"  style=\"position: relative; width: 400px; height: 350px;\">\n        <p id=\"3dmolwarning_17616089369231281\" style=\"background-color:#ffcccc;color:black\">3Dmol.js failed to load for some reason.  Please check your browser console for error messages.<br></p>\n        </div>\n<script>\n\nvar loadScriptAsync = function(uri){\n  return new Promise((resolve, reject) => {\n    //this is to ignore the existence of requirejs amd\n    var savedexports, savedmodule;\n    if (typeof exports !== 'undefined') savedexports = exports;\n    else exports = {}\n    if (typeof module !== 'undefined') savedmodule = module;\n    else module = {}\n\n    var tag = document.createElement('script');\n    tag.src = uri;\n    tag.async = true;\n    tag.onload = () => {\n        exports = savedexports;\n        module = savedmodule;\n        resolve();\n    };\n  var firstScriptTag = document.getElementsByTagName('script')[0];\n  firstScriptTag.parentNode.insertBefore(tag, firstScriptTag);\n});\n};\n\nif(typeof $3Dmolpromise === 'undefined') {\n$3Dmolpromise = null;\n  $3Dmolpromise = loadScriptAsync('https://cdn.jsdelivr.net/npm/3dmol@2.5.3/build/3Dmol-min.js');\n}\n\nvar viewer_17616089369231281 = null;\nvar warn = document.getElementById(\"3dmolwarning_17616089369231281\");\nif(warn) {\n    warn.parentNode.removeChild(warn);\n}\n$3Dmolpromise.then(function() {\nviewer_17616089369231281 = $3Dmol.createViewer(document.getElementById(\"3dmolviewer_17616089369231281\"),{backgroundColor:\"white\"});\nviewer_17616089369231281.zoomTo();\n\tviewer_17616089369231281.addModel(\"\\n     RDKit          3D\\n\\n 21 21  0  0  0  0  0  0  0  0999 V2000\\n    3.5106    0.2381    0.4515 C   0  0  0  0  0  0  0  0  0  0  0  0\\n    2.5491   -0.7357    1.1064 C   0  0  0  0  0  0  0  0  0  0  0  0\\n    1.1958   -0.2962    0.9187 O   0  0  0  0  0  0  0  0  0  0  0  0\\n    0.5998   -0.6977   -0.2319 C   0  0  0  0  0  0  0  0  0  0  0  0\\n    1.1116   -1.3834   -1.1029 O   0  0  0  0  0  0  0  0  0  0  0  0\\n   -0.7946   -0.1820   -0.3071 C   0  0  0  0  0  0  0  0  0  0  0  0\\n   -1.3612    0.6083    0.7028 C   0  0  0  0  0  0  0  0  0  0  0  0\\n   -2.6755    1.0666    0.5811 C   0  0  0  0  0  0  0  0  0  0  0  0\\n   -3.4290    0.7396   -0.5459 C   0  0  0  0  0  0  0  0  0  0  0  0\\n   -2.8726   -0.0457   -1.5545 C   0  0  0  0  0  0  0  0  0  0  0  0\\n   -1.5594   -0.5056   -1.4366 C   0  0  0  0  0  0  0  0  0  0  0  0\\n    3.3498    0.2816   -0.6303 H   0  0  0  0  0  0  0  0  0  0  0  0\\n    4.5474   -0.0552    0.6389 H   0  0  0  0  0  0  0  0  0  0  0  0\\n    3.3544    1.2508    0.8376 H   0  0  0  0  0  0  0  0  0  0  0  0\\n    2.7299   -0.7614    2.1860 H   0  0  0  0  0  0  0  0  0  0  0  0\\n    2.6933   -1.7556    0.7317 H   0  0  0  0  0  0  0  0  0  0  0  0\\n   -0.7921    0.8754    1.5896 H   0  0  0  0  0  0  0  0  0  0  0  0\\n   -3.1115    1.6793    1.3665 H   0  0  0  0  0  0  0  0  0  0  0  0\\n   -4.4516    1.0975   -0.6384 H   0  0  0  0  0  0  0  0  0  0  0  0\\n   -3.4599   -0.3006   -2.4333 H   0  0  0  0  0  0  0  0  0  0  0  0\\n   -1.1342   -1.1181   -2.2298 H   0  0  0  0  0  0  0  0  0  0  0  0\\n  1  2  1  0\\n  2  3  1  0\\n  3  4  1  0\\n  4  5  2  0\\n  4  6  1  0\\n  6  7  2  0\\n  7  8  1  0\\n  8  9  2  0\\n  9 10  1  0\\n 10 11  2  0\\n 11  6  1  0\\n  1 12  1  0\\n  1 13  1  0\\n  1 14  1  0\\n  2 15  1  0\\n  2 16  1  0\\n  7 17  1  0\\n  8 18  1  0\\n  9 19  1  0\\n 10 20  1  0\\n 11 21  1  0\\nM  END\\n\",\"mol\");\n\tviewer_17616089369231281.setStyle({\"stick\": {\"radius\": 0.15}, \"sphere\": {\"scale\": 0.25}});\n\tviewer_17616089369231281.zoomTo();\nviewer_17616089369231281.render();\n});\n</script>",
            "text/html": [
              "<div id=\"3dmolviewer_17616089369231281\"  style=\"position: relative; width: 400px; height: 350px;\">\n",
              "        <p id=\"3dmolwarning_17616089369231281\" style=\"background-color:#ffcccc;color:black\">3Dmol.js failed to load for some reason.  Please check your browser console for error messages.<br></p>\n",
              "        </div>\n",
              "<script>\n",
              "\n",
              "var loadScriptAsync = function(uri){\n",
              "  return new Promise((resolve, reject) => {\n",
              "    //this is to ignore the existence of requirejs amd\n",
              "    var savedexports, savedmodule;\n",
              "    if (typeof exports !== 'undefined') savedexports = exports;\n",
              "    else exports = {}\n",
              "    if (typeof module !== 'undefined') savedmodule = module;\n",
              "    else module = {}\n",
              "\n",
              "    var tag = document.createElement('script');\n",
              "    tag.src = uri;\n",
              "    tag.async = true;\n",
              "    tag.onload = () => {\n",
              "        exports = savedexports;\n",
              "        module = savedmodule;\n",
              "        resolve();\n",
              "    };\n",
              "  var firstScriptTag = document.getElementsByTagName('script')[0];\n",
              "  firstScriptTag.parentNode.insertBefore(tag, firstScriptTag);\n",
              "});\n",
              "};\n",
              "\n",
              "if(typeof $3Dmolpromise === 'undefined') {\n",
              "$3Dmolpromise = null;\n",
              "  $3Dmolpromise = loadScriptAsync('https://cdn.jsdelivr.net/npm/3dmol@2.5.3/build/3Dmol-min.js');\n",
              "}\n",
              "\n",
              "var viewer_17616089369231281 = null;\n",
              "var warn = document.getElementById(\"3dmolwarning_17616089369231281\");\n",
              "if(warn) {\n",
              "    warn.parentNode.removeChild(warn);\n",
              "}\n",
              "$3Dmolpromise.then(function() {\n",
              "viewer_17616089369231281 = $3Dmol.createViewer(document.getElementById(\"3dmolviewer_17616089369231281\"),{backgroundColor:\"white\"});\n",
              "viewer_17616089369231281.zoomTo();\n",
              "\tviewer_17616089369231281.addModel(\"\\n     RDKit          3D\\n\\n 21 21  0  0  0  0  0  0  0  0999 V2000\\n    3.5106    0.2381    0.4515 C   0  0  0  0  0  0  0  0  0  0  0  0\\n    2.5491   -0.7357    1.1064 C   0  0  0  0  0  0  0  0  0  0  0  0\\n    1.1958   -0.2962    0.9187 O   0  0  0  0  0  0  0  0  0  0  0  0\\n    0.5998   -0.6977   -0.2319 C   0  0  0  0  0  0  0  0  0  0  0  0\\n    1.1116   -1.3834   -1.1029 O   0  0  0  0  0  0  0  0  0  0  0  0\\n   -0.7946   -0.1820   -0.3071 C   0  0  0  0  0  0  0  0  0  0  0  0\\n   -1.3612    0.6083    0.7028 C   0  0  0  0  0  0  0  0  0  0  0  0\\n   -2.6755    1.0666    0.5811 C   0  0  0  0  0  0  0  0  0  0  0  0\\n   -3.4290    0.7396   -0.5459 C   0  0  0  0  0  0  0  0  0  0  0  0\\n   -2.8726   -0.0457   -1.5545 C   0  0  0  0  0  0  0  0  0  0  0  0\\n   -1.5594   -0.5056   -1.4366 C   0  0  0  0  0  0  0  0  0  0  0  0\\n    3.3498    0.2816   -0.6303 H   0  0  0  0  0  0  0  0  0  0  0  0\\n    4.5474   -0.0552    0.6389 H   0  0  0  0  0  0  0  0  0  0  0  0\\n    3.3544    1.2508    0.8376 H   0  0  0  0  0  0  0  0  0  0  0  0\\n    2.7299   -0.7614    2.1860 H   0  0  0  0  0  0  0  0  0  0  0  0\\n    2.6933   -1.7556    0.7317 H   0  0  0  0  0  0  0  0  0  0  0  0\\n   -0.7921    0.8754    1.5896 H   0  0  0  0  0  0  0  0  0  0  0  0\\n   -3.1115    1.6793    1.3665 H   0  0  0  0  0  0  0  0  0  0  0  0\\n   -4.4516    1.0975   -0.6384 H   0  0  0  0  0  0  0  0  0  0  0  0\\n   -3.4599   -0.3006   -2.4333 H   0  0  0  0  0  0  0  0  0  0  0  0\\n   -1.1342   -1.1181   -2.2298 H   0  0  0  0  0  0  0  0  0  0  0  0\\n  1  2  1  0\\n  2  3  1  0\\n  3  4  1  0\\n  4  5  2  0\\n  4  6  1  0\\n  6  7  2  0\\n  7  8  1  0\\n  8  9  2  0\\n  9 10  1  0\\n 10 11  2  0\\n 11  6  1  0\\n  1 12  1  0\\n  1 13  1  0\\n  1 14  1  0\\n  2 15  1  0\\n  2 16  1  0\\n  7 17  1  0\\n  8 18  1  0\\n  9 19  1  0\\n 10 20  1  0\\n 11 21  1  0\\nM  END\\n\",\"mol\");\n",
              "\tviewer_17616089369231281.setStyle({\"stick\": {\"radius\": 0.15}, \"sphere\": {\"scale\": 0.25}});\n",
              "\tviewer_17616089369231281.zoomTo();\n",
              "viewer_17616089369231281.render();\n",
              "});\n",
              "</script>"
            ]
          },
          "metadata": {}
        }
      ]
    },
    {
      "cell_type": "markdown",
      "source": [
        "## Calculating Molecular Properties\n",
        "\n",
        "RDKit can calculate many **molecular descriptors** — numerical properties derived from structure.  \n",
        "These include:\n",
        "- **Physicochemical properties** (e.g., molecular weight, logP, polar surface area)\n",
        "- **Structure counts** (e.g., number of rings, rotatable bonds, hydrogen bond donors/acceptors)\n",
        "- **Topological indices** (e.g., molecular complexity, connectivity descriptors)\n",
        "\n",
        "Descriptors are useful for:\n",
        "- Comparing molecules  \n",
        "- Creating datasets for **machine learning**  \n",
        "- Screening and filtering chemical libraries\n"
      ],
      "metadata": {
        "id": "Ri7irfQHE-8t"
      }
    },
    {
      "cell_type": "code",
      "source": [],
      "metadata": {
        "id": "hhpAF_P4EUGF"
      },
      "execution_count": null,
      "outputs": []
    }
  ],
  "metadata": {
    "kernelspec": {
      "display_name": "Python 3",
      "language": "python",
      "name": "python3"
    },
    "language_info": {
      "name": "python",
      "version": "3.x"
    },
    "colab": {
      "provenance": [],
      "include_colab_link": true
    }
  },
  "nbformat": 4,
  "nbformat_minor": 0
}