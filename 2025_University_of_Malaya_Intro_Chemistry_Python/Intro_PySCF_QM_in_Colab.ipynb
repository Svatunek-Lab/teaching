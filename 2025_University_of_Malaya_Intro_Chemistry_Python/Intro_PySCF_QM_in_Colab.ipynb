{
  "cells": [
    {
      "cell_type": "markdown",
      "metadata": {},
      "source": [
        "# \ud83e\uddea Quantum Chemistry in Python (PySCF + Colab)\n\n",
        "This notebook demonstrates simple quantum\u2011mechanical calculations in Google Colab using **PySCF**.\n"
      ]
    },
    {
      "cell_type": "markdown",
      "metadata": {},
      "source": [
        "## \u2699\ufe0f 1. Installation\n",
        "Run this once in Colab to install dependencies."
      ]
    },
    {
      "cell_type": "code",
      "execution_count": null,
      "metadata": {},
      "outputs": [],
      "source": [
        "!pip -q install pyscf py3Dmol\n"
      ]
    },
    {
      "cell_type": "markdown",
      "metadata": {},
      "source": [
        "## \ud83d\udca7 2. Hartree\u2013Fock on water\n",
        "Build the molecule, run RHF, and report energy and HOMO\u2013LUMO gap."
      ]
    },
    {
      "cell_type": "code",
      "execution_count": null,
      "metadata": {},
      "outputs": [],
      "source": [
        "import numpy as np\n",
        "from pyscf import gto, scf\n",
        "\n",
        "xyz = \"\"\"\n",
        "O  0.000000  0.000000  0.000000\n",
        "H  0.000000  0.757160  0.586260\n",
        "H  0.000000 -0.757160  0.586260\n",
        "\"\"\"\n",
        "\n",
        "mol = gto.Mole()\n",
        "mol.build(atom=xyz, basis=\"def2-SVP\", unit=\"Angstrom\")\n",
        "\n",
        "mf = scf.RHF(mol).run()\n",
        "\n",
        "E_hf = mf.e_tot\n",
        "mo_e = mf.mo_energy\n",
        "occ = mf.mo_occ\n",
        "homo = np.where(occ > 0)[0][-1]\n",
        "lumo = homo + 1\n",
        "gap_ev = (mo_e[lumo] - mo_e[homo]) * 27.211386\n",
        "\n",
        "print(f\"HF energy: {E_hf:.8f} Eh\")\n",
        "print(f\"HOMO: {mo_e[homo]: .6f} Eh   LUMO: {mo_e[lumo]: .6f} Eh   Gap: {gap_ev:.2f} eV\")\n"
      ]
    },
    {
      "cell_type": "markdown",
      "metadata": {},
      "source": [
        "## \ud83d\udcca 3. Dipole, Mulliken charges, and 3D view\n"
      ]
    },
    {
      "cell_type": "code",
      "execution_count": null,
      "metadata": {},
      "outputs": [],
      "source": [
        "from pyscf.prop import dipole as dip\n",
        "from pyscf.scf import hf\n",
        "from rdkit import Chem\n",
        "from rdkit.Chem import AllChem\n",
        "import py3Dmol\n",
        "import numpy as np\n",
        "\n",
        "# Dipole (Debye)\n",
        "dm1 = mf.make_rdm1()\n",
        "mu_au = dip.multipole(mol, dm1, unit='Debye')['total']\n",
        "print(f\"Dipole: {np.linalg.norm(mu_au):.2f} D  (components: {mu_au})\")\n",
        "\n",
        "# Mulliken population (atomic charges)\n",
        "pop, chg = hf.mulliken_pop(mol, dm1, s=mol.intor('int1e_ovlp'))\n",
        "print(\"Mulliken atomic charges:\")\n",
        "for sym, q in zip(mol.atom_symbols(), chg):\n",
        "    print(f\"  {sym:2s}: {q:+.3f}\")\n",
        "\n",
        "# 3D ball-and-stick view using RDKit + py3Dmol\n",
        "rdmol = Chem.MolFromXYZBlock(xyz)\n",
        "rdmol = Chem.AddHs(rdmol)\n",
        "AllChem.EmbedMolecule(rdmol, AllChem.ETKDG())\n",
        "mb = Chem.MolToMolBlock(rdmol)\n",
        "view = py3Dmol.view(width=380, height=300)\n",
        "view.addModel(mb, \"mol\")\n",
        "view.setStyle({\"stick\": {}})\n",
        "view.zoomTo()\n",
        "view.show()\n"
      ]
    },
    {
      "cell_type": "markdown",
      "metadata": {},
      "source": [
        "## \ud83c\udf08 4. Optional: DFT (PBE0) and HOMO isosurface\n"
      ]
    },
    {
      "cell_type": "code",
      "execution_count": null,
      "metadata": {},
      "outputs": [],
      "source": [
        "from pyscf import dft\n",
        "from pyscf.tools import cubegen\n",
        "import py3Dmol\n",
        "\n",
        "mf_dft = dft.RKS(mol, xc=\"PBE0\").run()\n",
        "print(f\"PBE0 energy: {mf_dft.e_tot:.8f} Eh\")\n",
        "\n",
        "# HOMO cube (may take ~10\u201330 s)\n",
        "homo = np.where(mf_dft.mo_occ > 0)[0][-1]\n",
        "cubegen.orbital(mol, \"homo.cube\", mf_dft.mo_coeff[:, homo], nx=40, ny=40, nz=40)\n",
        "\n",
        "with open(\"homo.cube\") as f:\n",
        "    cube = f.read()\n",
        "\n",
        "v = py3Dmol.view(width=420, height=340)\n",
        "v.addVolumetricData(cube, \"cube\", {\"isoval\": 0.03, \"color\": \"blue\", \"opacity\": 0.6})\n",
        "v.addVolumetricData(cube, \"cube\", {\"isoval\": -0.03, \"color\": \"red\", \"opacity\": 0.6})\n",
        "v.addModel(mb, \"mol\")\n",
        "v.setStyle({\"stick\": {}})\n",
        "v.zoomTo()\n",
        "v.show()\n"
      ]
    }
  ],
  "metadata": {
    "kernelspec": {
      "display_name": "Python 3",
      "language": "python",
      "name": "python3"
    },
    "language_info": {
      "name": "python",
      "version": "3.x"
    }
  },
  "nbformat": 4,
  "nbformat_minor": 5
}
